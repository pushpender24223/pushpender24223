{
 "cells": [
  {
   "cell_type": "raw",
   "id": "2b4bd27f",
   "metadata": {},
   "source": [
    "Q1. Create one variable containing following type of data:\n",
    "(i) string\n",
    "(ii) list\n",
    "(iii) float\n",
    "(iv) tuple"
   ]
  },
  {
   "cell_type": "code",
   "execution_count": 1,
   "id": "cbbae664",
   "metadata": {},
   "outputs": [],
   "source": [
    "s = 'Hello World'\n",
    "l = [1,4,67,89]\n",
    "f = 12.675\n",
    "t = (22,45,57,92)"
   ]
  },
  {
   "cell_type": "raw",
   "id": "1fc9a82b",
   "metadata": {},
   "source": [
    "Q2. Given are some following variables containing data:\n",
    "(i) var1 = ‘ ‘\n",
    "(ii) var2 = ‘[ DS , ML , Python]’\n",
    "(iii) var3 = [ ‘DS’ , ’ML’ , ‘Python’ ]\n",
    "(iv) var4 = 1.\n",
    "What will be the data type of the above given variable."
   ]
  },
  {
   "cell_type": "code",
   "execution_count": 6,
   "id": "e593a59e",
   "metadata": {},
   "outputs": [],
   "source": [
    "var1 = ''\n",
    "var2 = '[ DS , ML , Python]'\n",
    "var3 = [ 'DS' , 'ML' , 'Python' ]\n",
    "var4 = 1"
   ]
  },
  {
   "cell_type": "code",
   "execution_count": 11,
   "id": "b1612a06",
   "metadata": {},
   "outputs": [
    {
     "name": "stdout",
     "output_type": "stream",
     "text": [
      "<class 'str'>\n",
      "<class 'str'>\n",
      "<class 'list'>\n",
      "<class 'int'>\n"
     ]
    }
   ],
   "source": [
    "print(type(var1))\n",
    "print(type(var2))\n",
    "print(type(var3))\n",
    "print(type(var4))"
   ]
  },
  {
   "cell_type": "code",
   "execution_count": 15,
   "id": "d915aa02",
   "metadata": {},
   "outputs": [
    {
     "data": {
      "text/plain": [
       "5.0"
      ]
     },
     "execution_count": 15,
     "metadata": {},
     "output_type": "execute_result"
    }
   ],
   "source": [
    "#Q3. Explain the use of the following operators using an example:\n",
    "#(i) / -this is division operator\n",
    "10/2\n"
   ]
  },
  {
   "cell_type": "code",
   "execution_count": 16,
   "id": "617118f6",
   "metadata": {},
   "outputs": [
    {
     "data": {
      "text/plain": [
       "0"
      ]
     },
     "execution_count": 16,
     "metadata": {},
     "output_type": "execute_result"
    }
   ],
   "source": [
    "#(ii) %  -this is modulous operator, gives remainder\n",
    "10%2"
   ]
  },
  {
   "cell_type": "code",
   "execution_count": 17,
   "id": "e72d16d0",
   "metadata": {},
   "outputs": [
    {
     "data": {
      "text/plain": [
       "4"
      ]
     },
     "execution_count": 17,
     "metadata": {},
     "output_type": "execute_result"
    }
   ],
   "source": [
    "#(iii) //  -this is division operator but gives integer part only\n",
    "9//2"
   ]
  },
  {
   "cell_type": "code",
   "execution_count": 18,
   "id": "ecc37fc8",
   "metadata": {},
   "outputs": [
    {
     "data": {
      "text/plain": [
       "27"
      ]
     },
     "execution_count": 18,
     "metadata": {},
     "output_type": "execute_result"
    }
   ],
   "source": [
    "#(iv) **  -this is exponential operator, gives to the power of number.\n",
    "3**3"
   ]
  },
  {
   "cell_type": "raw",
   "id": "a2f636ce",
   "metadata": {},
   "source": [
    "Q4. Create a list of length 10 of your choice containing multiple types of data. Using for loop print the element and its data type."
   ]
  },
  {
   "cell_type": "code",
   "execution_count": 24,
   "id": "4119c0d6",
   "metadata": {},
   "outputs": [],
   "source": [
    "l1 = [23, 44.66, 'string', True, None, [1,2,4,57,9],{'name': 'msr','age':22}, 99.88, 10]"
   ]
  },
  {
   "cell_type": "code",
   "execution_count": 35,
   "id": "29ce60ae",
   "metadata": {},
   "outputs": [
    {
     "name": "stdout",
     "output_type": "stream",
     "text": [
      "23 <class 'int'>\n",
      "44.66 <class 'float'>\n",
      "string <class 'str'>\n",
      "True <class 'bool'>\n",
      "None <class 'NoneType'>\n",
      "[1, 2, 4, 57, 9] <class 'list'>\n",
      "{'name': 'msr', 'age': 22} <class 'dict'>\n",
      "99.88 <class 'float'>\n",
      "10 <class 'int'>\n"
     ]
    }
   ],
   "source": [
    "for var in l1:\n",
    "    print(var, type(var))"
   ]
  },
  {
   "cell_type": "raw",
   "id": "d70cec48",
   "metadata": {},
   "source": [
    "Q5. Using a while loop, verify if the number A is purely divisible by number B and if so then how many\n",
    "times it can be divisible."
   ]
  },
  {
   "cell_type": "code",
   "execution_count": 53,
   "id": "ab663c3c",
   "metadata": {},
   "outputs": [
    {
     "name": "stdout",
     "output_type": "stream",
     "text": [
      "3\n"
     ]
    }
   ],
   "source": [
    "def count_division(a,b):\n",
    "    count = 0\n",
    "    while a%b==0:\n",
    "        a//=b\n",
    "        count+=1\n",
    "        \n",
    "    return count\n",
    "\n",
    "num_A =24\n",
    "num_B = 2\n",
    "result = count_division(num_A, num_B)\n",
    "print(result)"
   ]
  },
  {
   "cell_type": "raw",
   "id": "2db9515d",
   "metadata": {},
   "source": [
    "Q6. Create a list containing 25 int type data. Using for loop and if-else condition print if the element is divisible by 3 or not."
   ]
  },
  {
   "cell_type": "code",
   "execution_count": 61,
   "id": "c5caa6a1",
   "metadata": {},
   "outputs": [],
   "source": [
    "l2 =[2,24,35,93,19,4,3,96,44,31,92,47,25,27,35,42,49,53,72,66,77,84,90,91]"
   ]
  },
  {
   "cell_type": "code",
   "execution_count": 64,
   "id": "b562cfec",
   "metadata": {},
   "outputs": [
    {
     "name": "stdout",
     "output_type": "stream",
     "text": [
      "24\n",
      "93\n",
      "3\n",
      "96\n",
      "27\n",
      "42\n",
      "72\n",
      "66\n",
      "84\n",
      "90\n"
     ]
    }
   ],
   "source": [
    "for var in l2:\n",
    "    if var%3==0:\n",
    "        print(var)"
   ]
  },
  {
   "cell_type": "raw",
   "id": "78acbc53",
   "metadata": {},
   "source": [
    "Q7. What do you understand about mutable and immutable data types? Give examples for both showing\n",
    "this property."
   ]
  },
  {
   "cell_type": "raw",
   "id": "30987178",
   "metadata": {},
   "source": [
    "Ans. Immutable is tuple and string, that means we can not assign new value while mutable are list, dictionary,set."
   ]
  },
  {
   "cell_type": "code",
   "execution_count": 65,
   "id": "6bce1eb3",
   "metadata": {},
   "outputs": [],
   "source": [
    "#Example:\n",
    "s = 'This is a string'"
   ]
  },
  {
   "cell_type": "code",
   "execution_count": 67,
   "id": "5fb9d7be",
   "metadata": {},
   "outputs": [
    {
     "ename": "TypeError",
     "evalue": "'str' object does not support item assignment",
     "output_type": "error",
     "traceback": [
      "\u001b[1;31m---------------------------------------------------------------------------\u001b[0m",
      "\u001b[1;31mTypeError\u001b[0m                                 Traceback (most recent call last)",
      "\u001b[1;32mC:\\Users\\PUSHPE~1\\AppData\\Local\\Temp/ipykernel_5976/1538614980.py\u001b[0m in \u001b[0;36m<module>\u001b[1;34m\u001b[0m\n\u001b[1;32m----> 1\u001b[1;33m \u001b[0ms\u001b[0m\u001b[1;33m[\u001b[0m\u001b[1;36m0\u001b[0m\u001b[1;33m]\u001b[0m \u001b[1;33m=\u001b[0m \u001b[1;34m'Y'\u001b[0m\u001b[1;33m\u001b[0m\u001b[1;33m\u001b[0m\u001b[0m\n\u001b[0m",
      "\u001b[1;31mTypeError\u001b[0m: 'str' object does not support item assignment"
     ]
    }
   ],
   "source": [
    "s[0] = 'Y'"
   ]
  },
  {
   "cell_type": "code",
   "execution_count": 68,
   "id": "2bd4a1c6",
   "metadata": {},
   "outputs": [],
   "source": [
    "# Above shows that string is not mutable."
   ]
  }
 ],
 "metadata": {
  "kernelspec": {
   "display_name": "Python 3 (ipykernel)",
   "language": "python",
   "name": "python3"
  },
  "language_info": {
   "codemirror_mode": {
    "name": "ipython",
    "version": 3
   },
   "file_extension": ".py",
   "mimetype": "text/x-python",
   "name": "python",
   "nbconvert_exporter": "python",
   "pygments_lexer": "ipython3",
   "version": "3.9.7"
  }
 },
 "nbformat": 4,
 "nbformat_minor": 5
}
