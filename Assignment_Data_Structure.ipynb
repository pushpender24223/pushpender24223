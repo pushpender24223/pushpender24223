{
 "cells": [
  {
   "cell_type": "raw",
   "id": "0068197c",
   "metadata": {},
   "source": [
    "Q1. How do you comment code in Python? What are the different types of comments?\n",
    "We can comment code in Python using \"#\" symbol in starting of code.\n",
    "Two types of comment:-\n",
    "Single line comment :- '#'\n",
    "Multi-line comment :- ''' Line1\n",
    "                          line2 '''"
   ]
  },
  {
   "cell_type": "raw",
   "id": "0116cb5c",
   "metadata": {},
   "source": [
    "Q2. What are variables in Python? How do you declare and assign values to variables?\n",
    "Variables are named reference to obeject,they are used to store data.\n",
    "suppose,\n",
    "    a = 20\n",
    "    l = [1,20,30,40,50]\n",
    "   in above example we have assign variable 'a' and store data type int.\n",
    "   other example, assign variable l and store list in it."
   ]
  },
  {
   "cell_type": "raw",
   "id": "0b639510",
   "metadata": {},
   "source": [
    "Q3. How do you convert one data type to another in Python?\n",
    "We can callup these function to convert data type to respected callup function data.\n",
    "int()\n",
    "float()\n",
    "str()\n",
    "complex() \n",
    "bool()"
   ]
  },
  {
   "cell_type": "raw",
   "id": "5718599c",
   "metadata": {},
   "source": [
    "Q4. How do you write and execute a Python script from the command line?\n",
    "\n",
    "Create a Python script file.\n",
    "Save the file with the .py extension.\n",
    "Open a command prompt.\n",
    "Navigate to the directory where the Python script file is saved.\n",
    "Run the Python script file by typing the following command:\n",
    "python script_name.py"
   ]
  },
  {
   "cell_type": "code",
   "execution_count": 2,
   "id": "a3d39f03",
   "metadata": {},
   "outputs": [],
   "source": [
    "#Q5. Given a list my_list = [1, 2, 3, 4, 5], \n",
    "#write the code to slice the list and obtain the sub-list [2, 3].\n",
    "my_list = [1, 2, 3, 4, 5]"
   ]
  },
  {
   "cell_type": "code",
   "execution_count": 3,
   "id": "79211107",
   "metadata": {},
   "outputs": [
    {
     "data": {
      "text/plain": [
       "[2, 3]"
      ]
     },
     "execution_count": 3,
     "metadata": {},
     "output_type": "execute_result"
    }
   ],
   "source": [
    "my_list[1:3]"
   ]
  },
  {
   "cell_type": "raw",
   "id": "80887715",
   "metadata": {},
   "source": [
    "Q6. What is a complex number in mathematics, and how is it represented in Python?\n",
    "In mathematics complex number is root of -1, symbol used i.\n",
    "in python represented by symbol j."
   ]
  },
  {
   "cell_type": "code",
   "execution_count": 4,
   "id": "cf612b61",
   "metadata": {},
   "outputs": [],
   "source": [
    "#Q7. What is the correct way to declare a variable named age and assign the value 25 to it?\n",
    "age = 25"
   ]
  },
  {
   "cell_type": "code",
   "execution_count": 5,
   "id": "9021ce52",
   "metadata": {},
   "outputs": [],
   "source": [
    "#Q8. Declare a variable named price and assign the value 9.99 to it. What data type does this variable belong to?\n",
    "price = 9.99"
   ]
  },
  {
   "cell_type": "code",
   "execution_count": 6,
   "id": "51a5d363",
   "metadata": {},
   "outputs": [
    {
     "data": {
      "text/plain": [
       "float"
      ]
     },
     "execution_count": 6,
     "metadata": {},
     "output_type": "execute_result"
    }
   ],
   "source": [
    "type(price)"
   ]
  },
  {
   "cell_type": "code",
   "execution_count": 7,
   "id": "90c91bf8",
   "metadata": {},
   "outputs": [],
   "source": [
    "#Q9. Create a variable named name and assign your full name to it as a string. How would you print the\n",
    "#   value of this variable?\n",
    "name = 'Pushpender Singh'"
   ]
  },
  {
   "cell_type": "code",
   "execution_count": 8,
   "id": "ff7d3883",
   "metadata": {},
   "outputs": [
    {
     "name": "stdout",
     "output_type": "stream",
     "text": [
      "Pushpender Singh\n"
     ]
    }
   ],
   "source": [
    "print(name)"
   ]
  },
  {
   "cell_type": "code",
   "execution_count": 9,
   "id": "f6f529d7",
   "metadata": {},
   "outputs": [],
   "source": [
    "#Q10. Given the string \"Hello, World!\", extract the substring \"World\".\n",
    "s = 'Hello, World'"
   ]
  },
  {
   "cell_type": "code",
   "execution_count": 13,
   "id": "79e7c981",
   "metadata": {},
   "outputs": [
    {
     "data": {
      "text/plain": [
       "'World'"
      ]
     },
     "execution_count": 13,
     "metadata": {},
     "output_type": "execute_result"
    }
   ],
   "source": [
    "s[7:]"
   ]
  },
  {
   "cell_type": "code",
   "execution_count": 14,
   "id": "2cad6397",
   "metadata": {},
   "outputs": [],
   "source": [
    "#Q11. Create a variable named \"is_student\" and assign it a boolean value indicating whether you are\n",
    "    #currently a student or not."
   ]
  },
  {
   "cell_type": "code",
   "execution_count": 15,
   "id": "6c72006e",
   "metadata": {},
   "outputs": [
    {
     "name": "stdout",
     "output_type": "stream",
     "text": [
      "True\n"
     ]
    }
   ],
   "source": [
    "is_student = True\n",
    "print(is_student)"
   ]
  }
 ],
 "metadata": {
  "kernelspec": {
   "display_name": "Python 3 (ipykernel)",
   "language": "python",
   "name": "python3"
  },
  "language_info": {
   "codemirror_mode": {
    "name": "ipython",
    "version": 3
   },
   "file_extension": ".py",
   "mimetype": "text/x-python",
   "name": "python",
   "nbconvert_exporter": "python",
   "pygments_lexer": "ipython3",
   "version": "3.9.7"
  }
 },
 "nbformat": 4,
 "nbformat_minor": 5
}
